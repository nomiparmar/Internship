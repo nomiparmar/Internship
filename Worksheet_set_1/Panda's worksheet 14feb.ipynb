{
 "cells": [
  {
   "cell_type": "markdown",
   "id": "aa325a97",
   "metadata": {},
   "source": [
    "# Find factorial number"
   ]
  },
  {
   "cell_type": "code",
   "execution_count": 1,
   "id": "bf25efa0",
   "metadata": {},
   "outputs": [
    {
     "name": "stdout",
     "output_type": "stream",
     "text": [
      "Enter a number: 5\n",
      "The factorial of the number is 120\n"
     ]
    }
   ],
   "source": [
    "a = int(input(\"Enter a number: \")) \n",
    "f = 1 \n",
    "for i in range(1,a+1): \n",
    "    f = f * i \n",
    " \n",
    "print(f'The factorial of the number is {f}')\n"
   ]
  },
  {
   "cell_type": "markdown",
   "id": "2ec60a98",
   "metadata": {},
   "source": [
    "# Number is prime or composite"
   ]
  },
  {
   "cell_type": "code",
   "execution_count": 3,
   "id": "a2928f32",
   "metadata": {},
   "outputs": [
    {
     "name": "stdout",
     "output_type": "stream",
     "text": [
      "Enter any Number : 2\n",
      "2 is Prime Number\n"
     ]
    }
   ],
   "source": [
    "num=int(input(\"Enter any Number : \"))\n",
    "count=0\n",
    "for a in range(2,num):\n",
    "    if num%a==0:\n",
    "        count+=1\n",
    "if count>=1:\n",
    "    print(num, \"is Composite Number\")\n",
    "else:\n",
    "    print(num, \"is Prime Number\")"
   ]
  },
  {
   "cell_type": "markdown",
   "id": "8f5f4bc0",
   "metadata": {},
   "source": [
    "# Given string is palindrome or not"
   ]
  },
  {
   "cell_type": "code",
   "execution_count": 4,
   "id": "636a7067",
   "metadata": {},
   "outputs": [
    {
     "name": "stdout",
     "output_type": "stream",
     "text": [
      "Enter a string: adae adawee adadf\n",
      "It is not palindrome\n"
     ]
    }
   ],
   "source": [
    "my_str = input(\"Enter a string: \")\n",
    "my_str = my_str.casefold()\n",
    "rev_str = reversed(my_str)\n",
    "if list(my_str) == list(rev_str):\n",
    "   print(\"It is palindrome\")\n",
    "else:\n",
    "   print(\"It is not palindrome\")"
   ]
  },
  {
   "cell_type": "markdown",
   "id": "8261284c",
   "metadata": {},
   "source": [
    "# Get the third side of right-angled triangle from two given sides"
   ]
  },
  {
   "cell_type": "code",
   "execution_count": 6,
   "id": "0efbc85c",
   "metadata": {},
   "outputs": [],
   "source": [
    "import math"
   ]
  },
  {
   "cell_type": "code",
   "execution_count": 7,
   "id": "27167d11",
   "metadata": {},
   "outputs": [
    {
     "name": "stdout",
     "output_type": "stream",
     "text": [
      "Enter base: 12\n",
      "Enter height: 3\n",
      "Enter angle: 90\n",
      "Hypotenuse = 12.36931687685298\n"
     ]
    }
   ],
   "source": [
    "a = float(input(\"Enter base: \"))\n",
    "b = float(input(\"Enter height: \"))\n",
    "x = float(input(\"Enter angle: \"))\n",
    "\n",
    "c = math.sqrt(a ** 2 + b ** 2)\n",
    "\n",
    "print(\"Hypotenuse =\", c)"
   ]
  },
  {
   "cell_type": "markdown",
   "id": "2c8e4853",
   "metadata": {},
   "source": [
    "# Frequency of each of the characters present in a given string"
   ]
  },
  {
   "cell_type": "code",
   "execution_count": 8,
   "id": "6e25e321",
   "metadata": {},
   "outputs": [
    {
     "name": "stdout",
     "output_type": "stream",
     "text": [
      "Enter the string: csafefavdaa\n",
      "Please enter the char to find frequency of ta character\n",
      "a\n",
      "The frequency of the  a in the string is:  4\n"
     ]
    }
   ],
   "source": [
    "string=input(\"Enter the string: \")\n",
    "char=input(\"Please enter the char to find frequency of ta character\\n\")\n",
    "count=0\n",
    "for i in range(len(string)):\n",
    "    if(string[i]==char):\n",
    "        count=count+1\n",
    "print(\"The frequency of the \",char,\"in the string is: \",count)"
   ]
  },
  {
   "cell_type": "code",
   "execution_count": null,
   "id": "292359b1",
   "metadata": {},
   "outputs": [],
   "source": []
  }
 ],
 "metadata": {
  "kernelspec": {
   "display_name": "Python 3",
   "language": "python",
   "name": "python3"
  },
  "language_info": {
   "codemirror_mode": {
    "name": "ipython",
    "version": 3
   },
   "file_extension": ".py",
   "mimetype": "text/x-python",
   "name": "python",
   "nbconvert_exporter": "python",
   "pygments_lexer": "ipython3",
   "version": "3.8.8"
  }
 },
 "nbformat": 4,
 "nbformat_minor": 5
}
